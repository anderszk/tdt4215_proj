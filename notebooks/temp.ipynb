{
 "cells": [
  {
   "cell_type": "markdown",
   "metadata": {},
   "source": [
    "Se på null records"
   ]
  },
  {
   "cell_type": "code",
   "execution_count": 22,
   "metadata": {},
   "outputs": [],
   "source": [
    "import pandas as pd\n",
    "\n",
    "def see_null(table):\n",
    "    path = \"../data/raw/MINDsmall_dev/\"+table\n",
    "    df = pd.read_csv(path, sep=\"\\t\")\n",
    "    \n",
    "    zeroes = df.isnull().sum() \n",
    "    counts = df.count()\n",
    "    counts_df = pd.DataFrame({\n",
    "        \"cols\" : df.columns,\n",
    "        \"zero\" :zeroes.values,\n",
    "        \"actual\" : counts.values,\n",
    "    })\n",
    "\n",
    "    print(counts_df)\n"
   ]
  },
  {
   "cell_type": "code",
   "execution_count": 24,
   "metadata": {},
   "outputs": [
    {
     "name": "stdout",
     "output_type": "stream",
     "text": [
      "                                                cols  zero  actual\n",
      "0                                                  1     0   73151\n",
      "1                                             U80234     0   73151\n",
      "2                             11/15/2019 12:37:50 PM     0   73151\n",
      "3  N55189 N46039 N51741 N53234 N11276 N264 N40716...  2214   70937\n",
      "4  N28682-0 N48740-0 N31958-1 N34130-0 N6916-0 N5...     0   73151\n",
      "---------------------------------\n",
      "                                                cols  zero  actual\n",
      "0                                             N55528     0   42415\n",
      "1                                          lifestyle     0   42415\n",
      "2                                    lifestyleroyals     0   42415\n",
      "3  The Brands Queen Elizabeth, Prince Charles, an...     0   42415\n",
      "4  Shop the notebooks, jackets, and more that the...  2021   40394\n",
      "5      https://assets.msn.com/labs/mind/AAGH0ET.html     0   42415\n",
      "6  [{\"Label\": \"Prince Philip, Duke of Edinburgh\",...     2   42413\n",
      "7                                                 []     2   42413\n"
     ]
    }
   ],
   "source": [
    "see_null(\"behaviors.tsv\")\n",
    "print(\"---------------------------------\")\n",
    "see_null(\"news.tsv\")\n",
    "\n"
   ]
  }
 ],
 "metadata": {
  "kernelspec": {
   "display_name": "Python 3",
   "language": "python",
   "name": "python3"
  },
  "language_info": {
   "codemirror_mode": {
    "name": "ipython",
    "version": 3
   },
   "file_extension": ".py",
   "mimetype": "text/x-python",
   "name": "python",
   "nbconvert_exporter": "python",
   "pygments_lexer": "ipython3",
   "version": "3.9.13"
  }
 },
 "nbformat": 4,
 "nbformat_minor": 2
}
